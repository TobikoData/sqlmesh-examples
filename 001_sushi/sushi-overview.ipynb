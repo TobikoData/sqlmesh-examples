{
 "cells": [
  {
   "cell_type": "markdown",
   "id": "20000015",
   "metadata": {},
   "source": [
    "# Overview\n",
    "\n",
    "This notebook provides an overview of the `sushi` example SQLMesh projects, describing the common elements among the simple, moderate, and complex example versions.\n",
    "\n",
    "It describes the source data used by the projects, the Python helper function that creates and adds to the data, and the differences among the versions.\n",
    "\n",
    "# Source data\n",
    "\n",
    "## Entities\n",
    "\n",
    "The `sushi` examples are based on the operational data from a fictional sushi restaurant. The restaurant's activities consist of the following entities, grouped by type:\n",
    "\n",
    "<br>\n",
    "\n",
    "| Entity type  | Entity                     |\n",
    "|--------------|----------------------------|\n",
    "| People       | - Waiters <br> - Customers |\n",
    "| Transactions | - Orders                   |\n",
    "| Food         | - Items                    |\n",
    "\n",
    "<br>\n",
    "\n",
    "The entities interact as follows:\n",
    "\n",
    "- Waiters take orders from customers\n",
    "- Orders consist of 1 or more items\n",
    "- Items can change price over time\n",
    "\n",
    "## Tables\n",
    "\n",
    "The project data correspond to an approach where data from source systems (e.g., order tracking software, HR software) is extracted and loaded into the `raw` schema before being transformed by SQLMesh models. \n",
    "\n",
    "The `raw` schema contains five tables. The table name, entities represented in the table, column names, column data types, column descriptions, and table grain (columns that uniquely identify each row) are: \n",
    "\n",
    "<br>\n",
    "\n",
    "| Table name   | Entities represented               | Column name                                                          | Column data type                                | Column description                                 | Grain  |\n",
    "|--------------|------------------------------------|----------------------------------------------------------------------|---------------------------------------------------|--------------------------------------------------|--------|\n",
    "| `marketing`    | Customers                          | id <br> customer_id <br> status                                      | INT <br> INT <br> TEXT                            | Unique ID <br> Customer ID <br> Customer activity status                    | id     |\n",
    "| `demographics` | Customers                          | id <br> customer_id <br> zip                                         | INT <br> INT <br> TEXT                            | Unique ID <br> Customer ID <br> Customer ZIP code                      | id     |\n",
    "| `orders`       | Orders <br> Waiters <br> Customers | id <br> customer_id <br> waiter_id <br> start_ts <br> end_ts <br> ds | INT <br> INT <br> INT <br> INT <br> INT <br> TEXT | Unique ID <br> Customer ID <br> Waiter ID <br> Order start time <br> Order end time <br> Date | id, ds |\n",
    "| `order_items`  | Orders <br> Items                  | id <br> order_id <br> item_id <br> quantity <br> ds                  | INT <br> INT <br> INT <br> INT <br> TEXT          | Unique ID <br> Order ID <br> Item ID <br> Item quantity <br> Date                     | id, ds |\n",
    "| `items`        | Items                              | id <br> name <br> price <br> ds                                      | INT <br> TEXT <br> DOUBLE <br> TEXT               | Unique ID <br> Item name <br> Item price <br> Date                      | id, ds |\n",
    "\n",
    "<br>\n",
    "\n",
    "## Populating the tables\n",
    "\n",
    "Each example project directory includes both a DuckDB database containing a small amount of data and a Python file containing functions to add data to the database.\n",
    "\n",
    "The only function you need to call is the `add_raw_data` function. It can be called from Python or from the command line and adds data for specific dates. It takes three arguments: start date, end date, and whether the database should be reset to empty before adding the data.\n",
    "\n",
    "Let's walk through an example of adding data to the \"1_simple\" project using the Python interface. First, we import the `os` module and change directories to the project folder:"
   ]
  },
  {
   "cell_type": "code",
   "execution_count": 1,
   "id": "123ea12e",
   "metadata": {},
   "outputs": [],
   "source": [
    "import os\n",
    "os.chdir(\"./1_simple\")"
   ]
  },
  {
   "cell_type": "markdown",
   "id": "a019fd02",
   "metadata": {},
   "source": [
    "Before adding new data, let's inspect the existing database with the Python DuckDB interface. First, we see what tables have been created:"
   ]
  },
  {
   "cell_type": "code",
   "execution_count": 2,
   "id": "62bfeced",
   "metadata": {},
   "outputs": [
    {
     "data": {
      "text/plain": [
       "┌──────────────┬──────────────┬────────────┐\n",
       "│ table_schema │  table_name  │ table_type │\n",
       "│   varchar    │   varchar    │  varchar   │\n",
       "├──────────────┼──────────────┼────────────┤\n",
       "│ raw          │ marketing    │ BASE TABLE │\n",
       "│ raw          │ demographics │ BASE TABLE │\n",
       "│ raw          │ orders       │ BASE TABLE │\n",
       "│ raw          │ items        │ BASE TABLE │\n",
       "│ raw          │ order_items  │ BASE TABLE │\n",
       "└──────────────┴──────────────┴────────────┘"
      ]
     },
     "execution_count": 2,
     "metadata": {},
     "output_type": "execute_result"
    }
   ],
   "source": [
    "import duckdb\n",
    "\n",
    "con = duckdb.connect(\"db/sushi-example.db\")\n",
    "\n",
    "con.sql(\"SELECT table_schema, table_name, table_type FROM INFORMATION_SCHEMA.TABLES\")"
   ]
  },
  {
   "cell_type": "markdown",
   "id": "9e36408d",
   "metadata": {},
   "source": [
    "Now let's inspect each table. \n",
    "\n",
    "First, we'll look at the `marketing` data on customers. Each of our 100 customers has a `customer_id` and a `status` of \"ACTIVE\" or \"INACTIVE\":"
   ]
  },
  {
   "cell_type": "code",
   "execution_count": 3,
   "id": "26f5668e",
   "metadata": {},
   "outputs": [
    {
     "data": {
      "text/plain": [
       "┌───────┬─────────────┬──────────┐\n",
       "│  id   │ customer_id │  status  │\n",
       "│ int32 │    int32    │ varchar  │\n",
       "├───────┼─────────────┼──────────┤\n",
       "│     0 │           0 │ INACTIVE │\n",
       "│     1 │           1 │ ACTIVE   │\n",
       "│     2 │           2 │ ACTIVE   │\n",
       "│     3 │           3 │ ACTIVE   │\n",
       "│     4 │           4 │ ACTIVE   │\n",
       "│     5 │           5 │ ACTIVE   │\n",
       "│     6 │           6 │ ACTIVE   │\n",
       "│     7 │           7 │ ACTIVE   │\n",
       "│     8 │           8 │ ACTIVE   │\n",
       "│     9 │           9 │ ACTIVE   │\n",
       "│     · │           · │   ·      │\n",
       "│     · │           · │   ·      │\n",
       "│     · │           · │   ·      │\n",
       "│    90 │          90 │ INACTIVE │\n",
       "│    91 │          91 │ ACTIVE   │\n",
       "│    92 │          92 │ ACTIVE   │\n",
       "│    93 │          93 │ ACTIVE   │\n",
       "│    94 │          94 │ INACTIVE │\n",
       "│    95 │          95 │ INACTIVE │\n",
       "│    96 │          96 │ ACTIVE   │\n",
       "│    97 │          97 │ ACTIVE   │\n",
       "│    98 │          98 │ ACTIVE   │\n",
       "│    99 │          99 │ ACTIVE   │\n",
       "├───────┴─────────────┴──────────┤\n",
       "│ 100 rows (20 shown)  3 columns │\n",
       "└────────────────────────────────┘"
      ]
     },
     "execution_count": 3,
     "metadata": {},
     "output_type": "execute_result"
    }
   ],
   "source": [
    "con.sql(\"SELECT * FROM raw.marketing\")"
   ]
  },
  {
   "cell_type": "markdown",
   "id": "3f30a8e3",
   "metadata": {},
   "source": [
    "The `demographics` table contains data on each customer's zip code:"
   ]
  },
  {
   "cell_type": "code",
   "execution_count": 4,
   "id": "f11e695e",
   "metadata": {},
   "outputs": [
    {
     "data": {
      "text/plain": [
       "┌───────┬─────────────┬─────────┐\n",
       "│  id   │ customer_id │   zip   │\n",
       "│ int32 │    int32    │ varchar │\n",
       "├───────┼─────────────┼─────────┤\n",
       "│     0 │           0 │ 10645   │\n",
       "│     1 │           1 │ 10343   │\n",
       "│     2 │           2 │ 10865   │\n",
       "│     3 │           3 │ 10194   │\n",
       "│     4 │           4 │ 10248   │\n",
       "│     5 │           5 │ 10016   │\n",
       "│     6 │           6 │ 10749   │\n",
       "│     7 │           7 │ 10277   │\n",
       "│     8 │           8 │ 10119   │\n",
       "│     9 │           9 │ 10722   │\n",
       "│     · │           · │   ·     │\n",
       "│     · │           · │   ·     │\n",
       "│     · │           · │   ·     │\n",
       "│    90 │          90 │ 10173   │\n",
       "│    91 │          91 │ 10977   │\n",
       "│    92 │          92 │ 10688   │\n",
       "│    93 │          93 │ 10208   │\n",
       "│    94 │          94 │ 10785   │\n",
       "│    95 │          95 │ 10059   │\n",
       "│    96 │          96 │ 10807   │\n",
       "│    97 │          97 │ 10692   │\n",
       "│    98 │          98 │ 10162   │\n",
       "│    99 │          99 │ 10997   │\n",
       "├───────┴─────────────┴─────────┤\n",
       "│      100 rows (20 shown)      │\n",
       "└───────────────────────────────┘"
      ]
     },
     "execution_count": 4,
     "metadata": {},
     "output_type": "execute_result"
    }
   ],
   "source": [
    "con.sql(\"SELECT * FROM raw.demographics\")"
   ]
  },
  {
   "cell_type": "markdown",
   "id": "7734c319",
   "metadata": {},
   "source": [
    "The `items` table contains each item for sale in the restaurant and its price on a specific date:"
   ]
  },
  {
   "cell_type": "code",
   "execution_count": 5,
   "id": "c1631f95",
   "metadata": {},
   "outputs": [
    {
     "data": {
      "text/plain": [
       "┌───────┬───────────┬────────┬────────────┐\n",
       "│  id   │   name    │ price  │     ds     │\n",
       "│ int32 │  varchar  │ double │    date    │\n",
       "├───────┼───────────┼────────┼────────────┤\n",
       "│     0 │ Hotate    │   7.59 │ 2023-10-01 │\n",
       "│     1 │ Tsubugai  │   6.33 │ 2023-10-01 │\n",
       "│     2 │ Ahi       │    9.0 │ 2023-10-01 │\n",
       "│     3 │ Sake Toro │   6.98 │ 2023-10-01 │\n",
       "│     4 │ Ikura     │   3.98 │ 2023-10-01 │\n",
       "│     5 │ Sake      │   7.12 │ 2023-10-01 │\n",
       "│     6 │ Amaebi    │   7.41 │ 2023-10-01 │\n",
       "│     7 │ Tako      │   5.59 │ 2023-10-01 │\n",
       "│     8 │ Aoyagi    │   3.53 │ 2023-10-01 │\n",
       "│     9 │ Escolar   │   6.56 │ 2023-10-01 │\n",
       "│     · │    ·      │     ·  │     ·      │\n",
       "│     · │    ·      │     ·  │     ·      │\n",
       "│     · │    ·      │     ·  │     ·      │\n",
       "│    16 │ Escolar   │   6.91 │ 2023-10-05 │\n",
       "│    17 │ Ahi       │   3.48 │ 2023-10-05 │\n",
       "│    18 │ Kani      │   3.09 │ 2023-10-05 │\n",
       "│    19 │ Sake      │   4.46 │ 2023-10-05 │\n",
       "│    20 │ Ebi       │    5.2 │ 2023-10-05 │\n",
       "│    21 │ Maguro    │   7.89 │ 2023-10-05 │\n",
       "│    22 │ Katsuo    │   8.64 │ 2023-10-05 │\n",
       "│    23 │ Hotate    │   9.75 │ 2023-10-05 │\n",
       "│    24 │ Hamachi   │   7.09 │ 2023-10-05 │\n",
       "│    25 │ Iwashi    │   6.46 │ 2023-10-05 │\n",
       "├───────┴───────────┴────────┴────────────┤\n",
       "│ 135 rows (20 shown)           4 columns │\n",
       "└─────────────────────────────────────────┘"
      ]
     },
     "execution_count": 5,
     "metadata": {},
     "output_type": "execute_result"
    }
   ],
   "source": [
    "con.sql(\"SELECT * FROM raw.items\")"
   ]
  },
  {
   "cell_type": "markdown",
   "id": "0ca664f1",
   "metadata": {},
   "source": [
    "The `orders` table contains data on each order placed with the restaurant, including the customer placing the order, waiter taking the order, start and end times, and order date:"
   ]
  },
  {
   "cell_type": "code",
   "execution_count": 6,
   "id": "5c6ec568",
   "metadata": {},
   "outputs": [
    {
     "data": {
      "text/plain": [
       "┌───────┬─────────────┬───────────┬────────────┬────────────┬────────────┐\n",
       "│  id   │ customer_id │ waiter_id │  start_ts  │   end_ts   │     ds     │\n",
       "│ int32 │    int32    │   int32   │   int32    │   int32    │    date    │\n",
       "├───────┼─────────────┼───────────┼────────────┼────────────┼────────────┤\n",
       "│     1 │          30 │         5 │ 1696145535 │ 1696145999 │ 2023-10-01 │\n",
       "│     2 │          24 │         3 │ 1696120330 │ 1696120878 │ 2023-10-01 │\n",
       "│     3 │          53 │         7 │ 1696181564 │ 1696181617 │ 2023-10-01 │\n",
       "│     4 │          92 │         5 │ 1696128237 │ 1696130039 │ 2023-10-01 │\n",
       "│     5 │          47 │         0 │ 1696137970 │ 1696139066 │ 2023-10-01 │\n",
       "│     6 │          58 │         1 │ 1696154421 │ 1696156404 │ 2023-10-01 │\n",
       "│     7 │          60 │         4 │ 1696161385 │ 1696162754 │ 2023-10-01 │\n",
       "│     8 │           9 │         2 │ 1696149907 │ 1696152197 │ 2023-10-01 │\n",
       "│     9 │          28 │         1 │ 1696188800 │ 1696190257 │ 2023-10-01 │\n",
       "│    10 │          17 │         7 │ 1696130410 │ 1696133601 │ 2023-10-01 │\n",
       "│     · │           · │         · │      ·     │      ·     │     ·      │\n",
       "│     · │           · │         · │      ·     │      ·     │     ·      │\n",
       "│     · │           · │         · │      ·     │      ·     │     ·      │\n",
       "│    17 │          15 │         5 │ 1696524871 │ 1696528346 │ 2023-10-05 │\n",
       "│    18 │          75 │         3 │ 1696526327 │ 1696527935 │ 2023-10-05 │\n",
       "│    19 │          45 │         6 │ 1696513259 │ 1696516317 │ 2023-10-05 │\n",
       "│    20 │          88 │         7 │ 1696525595 │ 1696527360 │ 2023-10-05 │\n",
       "│    21 │          90 │         9 │ 1696517791 │ 1696519445 │ 2023-10-05 │\n",
       "│    22 │          89 │         8 │ 1696487497 │ 1696487828 │ 2023-10-05 │\n",
       "│    23 │          82 │         0 │ 1696538377 │ 1696540659 │ 2023-10-05 │\n",
       "│    24 │          64 │         2 │ 1696483088 │ 1696483726 │ 2023-10-05 │\n",
       "│    25 │          44 │         9 │ 1696499488 │ 1696500502 │ 2023-10-05 │\n",
       "│    26 │          98 │         5 │ 1696531975 │ 1696534401 │ 2023-10-05 │\n",
       "├───────┴─────────────┴───────────┴────────────┴────────────┴────────────┤\n",
       "│ 135 rows (20 shown)                                          6 columns │\n",
       "└────────────────────────────────────────────────────────────────────────┘"
      ]
     },
     "execution_count": 6,
     "metadata": {},
     "output_type": "execute_result"
    }
   ],
   "source": [
    "con.sql(\"SELECT * FROM raw.orders\")"
   ]
  },
  {
   "cell_type": "markdown",
   "id": "6cec231b",
   "metadata": {},
   "source": [
    "Finally, the `order_items` table contains data on the individual items included in each order:"
   ]
  },
  {
   "cell_type": "code",
   "execution_count": 7,
   "id": "0faab5d8",
   "metadata": {},
   "outputs": [
    {
     "data": {
      "text/plain": [
       "┌───────┬──────────┬─────────┬──────────┬────────────┐\n",
       "│  id   │ order_id │ item_id │ quantity │     ds     │\n",
       "│ int32 │  int32   │  int32  │  int32   │    date    │\n",
       "├───────┼──────────┼─────────┼──────────┼────────────┤\n",
       "│     1 │        1 │      15 │        3 │ 2023-10-01 │\n",
       "│     2 │        1 │       0 │        4 │ 2023-10-01 │\n",
       "│     3 │        1 │       6 │        6 │ 2023-10-01 │\n",
       "│     4 │        1 │      22 │        4 │ 2023-10-01 │\n",
       "│     5 │        1 │       8 │        9 │ 2023-10-01 │\n",
       "│     6 │        2 │       6 │        9 │ 2023-10-01 │\n",
       "│     7 │        2 │      18 │        5 │ 2023-10-01 │\n",
       "│     8 │        3 │      16 │        3 │ 2023-10-01 │\n",
       "│     9 │        4 │      13 │        5 │ 2023-10-01 │\n",
       "│    10 │        4 │      28 │        5 │ 2023-10-01 │\n",
       "│     · │        · │       · │        · │     ·      │\n",
       "│     · │        · │       · │        · │     ·      │\n",
       "│     · │        · │       · │        · │     ·      │\n",
       "│    66 │       23 │      14 │        2 │ 2023-10-05 │\n",
       "│    67 │       24 │      14 │        2 │ 2023-10-05 │\n",
       "│    68 │       24 │      24 │        1 │ 2023-10-05 │\n",
       "│    69 │       25 │      12 │        1 │ 2023-10-05 │\n",
       "│    70 │       25 │      14 │        9 │ 2023-10-05 │\n",
       "│    71 │       25 │       4 │        5 │ 2023-10-05 │\n",
       "│    72 │       25 │       2 │        5 │ 2023-10-05 │\n",
       "│    73 │       25 │      11 │        8 │ 2023-10-05 │\n",
       "│    74 │       26 │      12 │        2 │ 2023-10-05 │\n",
       "│    75 │       26 │      23 │        5 │ 2023-10-05 │\n",
       "├───────┴──────────┴─────────┴──────────┴────────────┤\n",
       "│ 350 rows (20 shown)                      5 columns │\n",
       "└────────────────────────────────────────────────────┘"
      ]
     },
     "execution_count": 7,
     "metadata": {},
     "output_type": "execute_result"
    }
   ],
   "source": [
    "con.sql(\"SELECT * FROM raw.order_items\")"
   ]
  },
  {
   "cell_type": "markdown",
   "id": "67d7d031",
   "metadata": {},
   "source": [
    "In addition to the tables in the DuckDB database, the sushi projects read a \"seed\" CSV file containing each waiter's name. That file contains this data:"
   ]
  },
  {
   "cell_type": "code",
   "execution_count": 8,
   "id": "1a08c078",
   "metadata": {},
   "outputs": [
    {
     "name": "stdout",
     "output_type": "stream",
     "text": [
      "id,name\n",
      "0,Toby\n",
      "1,Tyson\n",
      "2,Ryan\n",
      "3,George\n",
      "4,Chris\n",
      "5,Max\n",
      "6,Vincent\n",
      "7,Iaroslav\n",
      "8,Emma\n",
      "9,Maia\n",
      "\n"
     ]
    }
   ],
   "source": [
    "from addsushidata import print_file # import `print_file` from addsushidata.py\n",
    "\n",
    "print_file(\"seeds/waiter_names.csv\")"
   ]
  },
  {
   "cell_type": "markdown",
   "id": "b7e281a2",
   "metadata": {},
   "source": [
    "The last date of data in the existing tables is October 5, 2023: "
   ]
  },
  {
   "cell_type": "code",
   "execution_count": 9,
   "id": "501e828e",
   "metadata": {},
   "outputs": [
    {
     "data": {
      "text/plain": [
       "┌────────────┐\n",
       "│ last_date  │\n",
       "│    date    │\n",
       "├────────────┤\n",
       "│ 2023-10-05 │\n",
       "└────────────┘"
      ]
     },
     "execution_count": 9,
     "metadata": {},
     "output_type": "execute_result"
    }
   ],
   "source": [
    "con.sql(\"SELECT MAX(ds) as last_date FROM raw.orders\")"
   ]
  },
  {
   "cell_type": "markdown",
   "id": "1ed0dbd2",
   "metadata": {},
   "source": [
    "We can add one more day of data with the `add_raw_data` function like this:"
   ]
  },
  {
   "cell_type": "code",
   "execution_count": 10,
   "id": "ae19ab37",
   "metadata": {},
   "outputs": [],
   "source": [
    "from addsushidata import add_raw_data # import `add_raw_data()` from addsushidata.py\n",
    "\n",
    "add_raw_data(start=\"2023-10-06\", end=\"2023-10-06\")"
   ]
  },
  {
   "cell_type": "markdown",
   "id": "dd5e9596",
   "metadata": {},
   "source": [
    "Let's confirm that the additional day was added:"
   ]
  },
  {
   "cell_type": "code",
   "execution_count": 11,
   "id": "528addb6",
   "metadata": {},
   "outputs": [
    {
     "data": {
      "text/plain": [
       "┌────────────┐\n",
       "│ last_date  │\n",
       "│    date    │\n",
       "├────────────┤\n",
       "│ 2023-10-06 │\n",
       "└────────────┘"
      ]
     },
     "execution_count": 11,
     "metadata": {},
     "output_type": "execute_result"
    }
   ],
   "source": [
    "con.sql(\"SELECT MAX(ds) as last_date FROM raw.orders\")"
   ]
  },
  {
   "cell_type": "markdown",
   "id": "4cdd98fb",
   "metadata": {},
   "source": [
    "Finally, let's close our database connection:"
   ]
  },
  {
   "cell_type": "code",
   "execution_count": 12,
   "id": "69d76188",
   "metadata": {},
   "outputs": [],
   "source": [
    "con.close()"
   ]
  },
  {
   "cell_type": "markdown",
   "id": "52417ac5",
   "metadata": {},
   "source": [
    "## Next steps\n",
    "\n",
    "Now that you understand the sushi project data and how to add data to the project with `add_raw_data()`, you're ready to check out the examples.\n",
    "\n",
    "Each example project's complexity level builds on the previous - for example, `2_moderate` contains modified versions of the models in `1_simple`, along with additional components. \n",
    "\n",
    "Fortunately, nothing bad will happen if the examples get broken, so feel free to modify and tinker. If the database is returning results that seem wrong, just delete the DuckDB files and start over with `add_raw_data()` - no harm done!"
   ]
  }
 ],
 "metadata": {
  "kernelspec": {
   "display_name": ".venv",
   "language": "python",
   "name": "python3"
  },
  "language_info": {
   "codemirror_mode": {
    "name": "ipython",
    "version": 3
   },
   "file_extension": ".py",
   "mimetype": "text/x-python",
   "name": "python",
   "nbconvert_exporter": "python",
   "pygments_lexer": "ipython3",
   "version": "3.11.5"
  }
 },
 "nbformat": 4,
 "nbformat_minor": 5
}
